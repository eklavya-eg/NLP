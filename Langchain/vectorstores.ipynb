{
 "cells": [
  {
   "cell_type": "code",
   "execution_count": null,
   "metadata": {},
   "outputs": [],
   "source": [
    "import numpy as np\n",
    "model_path = \"W:/Models/Sentence Embeddings/universal sentence encoder\"\n"
   ]
  },
  {
   "cell_type": "code",
   "execution_count": 25,
   "metadata": {},
   "outputs": [],
   "source": [
    "from tf_emb1 import TensorflowHubEmbeddings\n",
    "embedding = TensorflowHubEmbeddings()"
   ]
  },
  {
   "cell_type": "code",
   "execution_count": null,
   "metadata": {},
   "outputs": [],
   "source": [
    "s1 = \"i like dogs\"\n",
    "s2 = \"i like cannies\"\n",
    "s3 = \"i like candies\"\n",
    "s4 = \"the weather is ugly outside\"\n",
    "e = np.array(embedding([s1, s2, s3, s4]))\n",
    "print(e)\n",
    "print(np.dot(e[0], e[2]))"
   ]
  },
  {
   "cell_type": "code",
   "execution_count": 26,
   "metadata": {},
   "outputs": [
    {
     "ename": "TypeError",
     "evalue": "'NoneType' object is not callable",
     "output_type": "error",
     "traceback": [
      "\u001b[1;31m---------------------------------------------------------------------------\u001b[0m",
      "\u001b[1;31mTypeError\u001b[0m                                 Traceback (most recent call last)",
      "Cell \u001b[1;32mIn[26], line 1\u001b[0m\n\u001b[1;32m----> 1\u001b[0m \u001b[43membedding\u001b[49m\u001b[38;5;241;43m.\u001b[39;49m\u001b[43membed\u001b[49m\u001b[43m(\u001b[49m\u001b[38;5;124;43m\"\u001b[39;49m\u001b[38;5;124;43mlsdkjfklds lsdkjfldk\u001b[39;49m\u001b[38;5;124;43m\"\u001b[39;49m\u001b[43m)\u001b[49m\n",
      "\u001b[1;31mTypeError\u001b[0m: 'NoneType' object is not callable"
     ]
    }
   ],
   "source": [
    "embedding.embed(\"i like dogs\")"
   ]
  },
  {
   "cell_type": "code",
   "execution_count": 28,
   "metadata": {},
   "outputs": [
    {
     "name": "stdout",
     "output_type": "stream",
     "text": [
      "[[1 2]\n",
      " [3 4]]\n",
      "tf.Tensor(\n",
      "[[1 2]\n",
      " [3 4]], shape=(2, 2), dtype=int32)\n"
     ]
    }
   ],
   "source": [
    "import tensorflow as tf\n",
    "\n",
    "# Create a TensorFlow tensor\n",
    "tensor = tf.constant([[1, 2], [3, 4]])\n",
    "\n",
    "# Convert the TensorFlow tensor to a NumPy array\n",
    "numpy_array = tensor.numpy()\n",
    "\n",
    "# Print the NumPy array\n",
    "print(numpy_array)\n",
    "print(tensor)\n"
   ]
  },
  {
   "cell_type": "code",
   "execution_count": null,
   "metadata": {},
   "outputs": [],
   "source": []
  },
  {
   "cell_type": "code",
   "execution_count": 14,
   "metadata": {},
   "outputs": [
    {
     "data": {
      "text/plain": [
       "'[{\"content\":\"Hello! I\\'m an AI assistant bot based on ChatGPT 3. How may I help you?\",\"role\":\"system\"},{\"content\":\"hi\",\"role\":\"user\"}]'"
      ]
     },
     "execution_count": 14,
     "metadata": {},
     "output_type": "execute_result"
    }
   ],
   "source": [
    "payload = \"[{\\\"content\\\":\\\"Hello! I'm an AI assistant bot based on ChatGPT 3. How may I help you?\\\",\\\"role\\\":\\\"system\\\"},{\\\"content\\\":\\\"{prompt_template}\\\",\\\"role\\\":\\\"user\\\"}]\"\n",
    "qe = \"hi\"\n",
    "payload = payload.replace(\"{prompt_template}\", qe)\n",
    "payload"
   ]
  },
  {
   "cell_type": "code",
   "execution_count": 1,
   "metadata": {},
   "outputs": [
    {
     "data": {
      "text/plain": [
       "27"
      ]
     },
     "execution_count": 1,
     "metadata": {},
     "output_type": "execute_result"
    }
   ],
   "source": []
  },
  {
   "cell_type": "code",
   "execution_count": 2,
   "metadata": {},
   "outputs": [
    {
     "data": {
      "text/plain": [
       "'Direct Preference Optimization:\\nYour Language Model is Secretly a Reward Model\\nRafael Rafailov∗†Archit Sharma∗†Eric Mitchell∗†\\nStefano Ermon†‡Christopher D. Manning†Chelsea Finn†\\n†Stanford University‡CZ Biohub\\n{rafailov,architsh,eric.mitchell}@cs.stanford.edu\\nAbstract\\nWhile large-scale unsupervised language models (LMs) learn broad world knowl-\\nedge and some reasoning skills, achieving precise control of their behavior is\\ndifficult due to the completely unsupervised nature of their training. Existing\\nmethods for gaining such steerability collect human labels of the relative quality of\\nmodel generations and fine-tune the unsupervised LM to align with these prefer-\\nences, often with reinforcement learning from human feedback (RLHF). However,\\nRLHF is a complex and often unstable procedure, first fitting a reward model that\\nreflects the human preferences, and then fine-tuning the large unsupervised LM\\nusing reinforcement learning to maximize this estimated reward without drifting\\ntoo far from the original model. In this paper we introduce a new parameterization\\nof the reward model in RLHF that enables extraction of the corresponding optimal\\npolicy in closed form, allowing us to solve the standard RLHF problem with only a\\nsimple classification loss. The resulting algorithm, which we call Direct Prefer-\\nence Optimization (DPO), is stable, performant, and computationally lightweight,\\neliminating the need for sampling from the LM during fine-tuning or performing\\nsignificant hyperparameter tuning. Our experiments show that DPO can fine-tune\\nLMs to align with human preferences as well as or better than existing methods.\\nNotably, fine-tuning with DPO exceeds PPO-based RLHF in ability to control sen-\\ntiment of generations, and matches or improves response quality in summarization\\nand single-turn dialogue while being substantially simpler to implement and train.\\n1 Introduction\\nLarge unsupervised language models (LMs) trained on very large datasets acquire surprising capabili-\\nties [ 11,7,40,8]. However, these models are trained on data generated by humans with a wide variety\\nof goals, priorities, and skillsets. Some of these goals and skillsets may not be desirable to imitate; for\\nexample, while we may want our AI coding assistant to understand common programming mistakes\\nin order to correct them, nevertheless, when generating code, we would like to bias our model toward\\nthe (potentially rare) high-quality coding ability present in its training data. Similarly, we might want\\nour language model to be aware of a common misconception believed by 50% of people, but we\\ncertainly do not want the model to claim this misconception to be true in 50% of queries about it!\\nIn other words, selecting the model’s desired responses and behavior from its very wide knowledge\\nand abilities is crucial to building AI systems that are safe, performant, and controllable [ 26]. While\\nexisting methods typically steer LMs to match human preferences using reinforcement learning (RL),\\n∗Equal contribution; more junior authors listed earlier.\\n37th Conference on Neural Information Processing Systems (NeurIPS 2023).arXiv:2305.18290v2  [cs.LG]  13 Dec 2023'"
      ]
     },
     "execution_count": 2,
     "metadata": {},
     "output_type": "execute_result"
    }
   ],
   "source": [
    "pages[0].page_content"
   ]
  },
  {
   "cell_type": "code",
   "execution_count": 20,
   "metadata": {},
   "outputs": [],
   "source": [
    "from langchain.document_loaders import PyPDFLoader, DirectoryLoader\n",
    "from tf_emb1 import TensorflowHubEmbeddings\n",
    "from langchain.text_splitter import RecursiveCharacterTextSplitter\n",
    "from langchain.llms import CTransformers\n",
    "from langchain_community.vectorstores import Typesense\n",
    "from langchain import PromptTemplate\n",
    "from langchain.chains import RetrievalQA\n",
    "from langchain_pinecone import PineconeVectorStore\n",
    "\n",
    "\n",
    "DATA_PATH = \"Docs/\"\n",
    "# USE_PATH = \"https://tfhub.dev/google/universal-sentence-encoder-multilingual/3\"\n",
    "USE_PATH = \"D:/Models/Sentence Embeddings/universal sentence encoder\"\n",
    "index_name = \"langchain-test-index\"\n",
    "\n",
    "embedding = TensorflowHubEmbeddings(model_url=USE_PATH)\n",
    "embedding.model_url = USE_PATH\n",
    "embedding.load()"
   ]
  },
  {
   "cell_type": "code",
   "execution_count": 21,
   "metadata": {},
   "outputs": [
    {
     "data": {
      "text/plain": [
       "371"
      ]
     },
     "execution_count": 21,
     "metadata": {},
     "output_type": "execute_result"
    }
   ],
   "source": [
    "loader = PyPDFLoader(\"PDF/DPO.pdf\")\n",
    "pages = loader.load()\n",
    "print(len(pages))\n",
    "splitter = RecursiveCharacterTextSplitter(chunk_size = 300, chunk_overlap=90)\n",
    "docs = splitter.split_documents(pages)\n",
    "print(len(docs))"
   ]
  },
  {
   "cell_type": "code",
   "execution_count": 23,
   "metadata": {},
   "outputs": [
    {
     "data": {
      "text/plain": [
       "['382fd38d-4e43-431a-823b-b14f44a4f0ee',\n",
       " 'e49d4cac-6ee6-455c-a13c-499b98693943',\n",
       " '7fb48b14-e1cd-46b2-8067-f5eed2f5ba62',\n",
       " 'fe91c493-443f-4fc0-bac3-f74939451898',\n",
       " 'a3d1aa1a-1aaa-4b97-b52c-b7252925a193',\n",
       " 'e89a47b4-ae34-4222-bde0-7591f493e1d2',\n",
       " 'c620533c-a5ff-41cd-8e73-9d2687213186',\n",
       " 'e05e21fc-5d73-43fc-ac69-8cce6ade1102',\n",
       " '67a43010-5954-4c5d-8556-a1f73eb61309',\n",
       " 'b8e5b221-0813-48fe-bdae-e0662c7d69eb',\n",
       " '4fd9eecb-1c40-46ae-b7cd-31bc65659ad2',\n",
       " '1bbb6a1f-1cc2-4fc5-8a53-6749dfd48b13',\n",
       " '6a54f480-7a4f-4bc2-915d-9303da265343',\n",
       " 'f3f13747-2616-4551-af9d-29f5e35efd0f',\n",
       " '907e6113-599d-4ba8-abf6-579af8426819',\n",
       " '6a063ae0-c819-4770-a94f-b63a114bda94',\n",
       " '0a19346e-ca1e-4211-b94c-3b265a71f5e4',\n",
       " '9955e14a-272e-4217-b9cc-e52b16b34089',\n",
       " '1ce7173a-1844-4620-9958-b5dd62ffe876',\n",
       " '77bd9a7e-bbf7-4fd5-a3e9-70b2f6da7f4d',\n",
       " '22078cf3-cfde-4567-a031-13525f969c07',\n",
       " 'e5de54cd-2b14-46db-b902-4f3b958f80a4',\n",
       " '0ec2965f-f070-4506-bd00-9e239565db0c',\n",
       " '621491da-4977-45f4-9567-dae181314d2a',\n",
       " 'f8815ada-cc87-4e47-b78f-609b229edada',\n",
       " 'cd40ffac-8e4c-49b6-b65b-12d1e6d44335',\n",
       " '143e68b3-412b-4aae-87da-d79c797bf88b',\n",
       " 'd2147944-af79-442a-8930-d26a44233c6a',\n",
       " '1c2d1e8f-be55-470c-9345-f5941c51c387',\n",
       " '2e34f280-6636-4df2-8a26-4a56e2f3abf7',\n",
       " '3f0fef77-a11b-45a7-98d7-b70cd8d12d99',\n",
       " 'accd476f-6812-4ec2-8afa-03e3f758de56',\n",
       " '69e49b20-5b59-4454-b1b4-313be3812ca6',\n",
       " '9be02f8c-7133-4818-911a-58b27947cf97',\n",
       " '7b615dff-6226-4e4a-be29-51769255039d',\n",
       " 'e5295dee-4d29-47dd-bfe9-45df90467973',\n",
       " 'b1ae020b-279f-4020-a6ad-2788be0c875c',\n",
       " '16cda4fa-6a84-42d5-9380-84720bdfc7e4',\n",
       " 'fda5eac3-fc6a-4ce2-8c0b-490ee5d25525',\n",
       " 'f35878eb-07fb-4f57-aac3-6ad1ccf154af',\n",
       " 'b819fbbd-2d7a-4fc8-8afc-65ba857fff66',\n",
       " 'd0762a8e-7933-4fbe-8f10-2c5324f088e6',\n",
       " '637781ef-4bb7-444f-89b1-550dcef95242',\n",
       " '6022f658-aab5-439c-8587-cc330b27015b',\n",
       " '265a87d8-df40-484b-a91d-4b80c24d64f0',\n",
       " 'd96ed04b-5280-4a0b-b2b9-1715b9b02bdb',\n",
       " '09b0c4ca-065b-4bbb-b935-5bcf3f401a24',\n",
       " 'fd2b6019-e0e4-42db-9d48-c283d6d203e5',\n",
       " 'ec6b3780-9513-4b4c-b8d7-8664d3cd0b98',\n",
       " '7a1f58d9-14f0-4f2b-bb6f-ea114d1bdb59',\n",
       " 'e9ef2c25-f9d1-4209-a3f4-c26f505cb67f',\n",
       " 'f213b340-9355-478a-a617-ecbb6c561e0d',\n",
       " 'b7d7c59b-fe83-4636-a7f6-039280cd3e2b',\n",
       " '45b99b18-671b-4218-a3c1-2bb0abf165b2',\n",
       " '75a6b210-69f3-4c62-b79a-f61e3b3b8c50',\n",
       " '629b4b1d-8640-4fe5-b65f-d37f3eb84b2b',\n",
       " '21492671-759d-45b7-8aad-396dcf3eb3f2',\n",
       " '2eeda7c2-93e7-4fcb-b3ec-ed7e33a01ede',\n",
       " 'deb4cf12-cbfb-49c7-aed3-3d1296308af4',\n",
       " '21fe11b5-dba8-4206-b3fc-b2cff235182e',\n",
       " 'c2e44fc6-3d35-4aae-abca-06cca9fe25f0',\n",
       " '97deba37-2e0f-429a-a22e-d8585555565a',\n",
       " '53097d81-6f98-42b7-a7f7-d417b2d72a8c',\n",
       " '1961cafb-467f-4307-be41-1a5d19662efa',\n",
       " '53d7f6ed-b47b-4b03-b610-2223322e4852',\n",
       " 'd83c9ea6-b9f9-4f0b-a3ea-a529185727a6',\n",
       " 'c3d37871-36cf-4080-844d-610299cce7bb',\n",
       " '74afab50-9fc8-427f-8125-1ac57929748a',\n",
       " '515fcd11-703d-48b8-8c80-df8c9026172b',\n",
       " 'c93abab3-a591-46d8-ab42-12605e7462bc',\n",
       " '3f3154df-9619-4b7b-b8ac-be00851a4df8',\n",
       " '26edc03e-c15b-4bb3-a764-d318d576f97e',\n",
       " 'b5cd6e45-f55b-42f4-94a5-5023d535efec',\n",
       " '38035fcf-9f98-4c38-be97-85df90434f36',\n",
       " '52481bed-ba79-4aaa-ba8b-032ad3f0d035',\n",
       " 'e718fce1-5e6d-4786-8bbb-e46dfe7e24dc',\n",
       " '534f0cf3-d25f-4caa-aa25-f398fd79a93f',\n",
       " 'de66a4e8-cdfe-4a43-b9d1-106191613e1e',\n",
       " 'a00a5799-1d36-431b-8c5f-efbd3cbd0c88',\n",
       " '839e943a-9c3d-4a17-b423-b078ed45dbeb',\n",
       " 'f442d375-21d2-4377-a7df-5de7b193a109',\n",
       " 'e1cc7db7-4590-4c0b-8a91-0b3e9b7be398',\n",
       " 'ba67955a-a641-4898-b44f-f8b76405ae2a',\n",
       " 'f90c3e9e-b275-44d4-9db5-ed92beed5f2b',\n",
       " '52c835ab-0b88-44db-884c-d388aa97bb7f',\n",
       " 'dfa6e8f7-3353-47b8-afa4-fa3ec0cce327',\n",
       " '857cb91f-1bac-42f1-a491-6d6140809776',\n",
       " '8beb97bb-a35e-4632-b3d5-16827f33473d',\n",
       " '1a4a56db-ec32-42bd-ae91-e754174e91b1',\n",
       " 'e98dad7a-b36b-48cb-87c2-42e00a352d4d',\n",
       " 'ece210f2-e356-4a97-affd-0de117844afa',\n",
       " '9add9e2b-3316-44c0-ab21-fdd360f81ce6',\n",
       " '01c75734-265a-448e-b134-a7c50909fbab',\n",
       " '1770e319-980b-47f3-994b-0d1a0855aa9e',\n",
       " 'd1d91e2d-6f6a-4f21-99d9-98e58aafac71',\n",
       " 'a5a8ae6a-5b4d-4593-a609-6187c84cc3d2',\n",
       " 'ec76ad53-50d9-4506-ad3c-ae28ebdf3bc8',\n",
       " 'f12b003b-a2a0-40a4-956e-4a1437a834e0',\n",
       " '862f240a-bd26-4499-b9d7-9a71d96ca19e',\n",
       " '84c4940b-94ab-4a98-b797-83a9f972f5dd',\n",
       " 'e1b6c90f-29e7-404d-b690-1842ab406c34',\n",
       " '587e3558-0f2a-4116-8a36-25dd44372e0b',\n",
       " '5f329dfb-5362-44b5-b279-61884e8945d1',\n",
       " '37428f9e-f867-46fd-a420-4f00b880dd8d',\n",
       " 'e79cd08a-1008-4f1e-a3e9-4ca17867dc63',\n",
       " 'e9ea8909-3395-4ad9-b9de-7e348e06f9d9',\n",
       " '3e43b0b9-5e63-4369-8708-191bbf782437',\n",
       " '163d5534-c8f1-4c70-bf8b-1114c3116b3a',\n",
       " '2992ce47-a6d7-4821-b944-73b99925b215',\n",
       " 'bcb08bdc-b6a8-4d8d-9a8c-afa4948ee90c',\n",
       " '86b12e14-67cd-4675-8911-4eda352199c8',\n",
       " '6faef1a7-9501-40f8-a55d-ff9d1c28f690',\n",
       " 'b9ab1e81-4b4c-4d67-834e-63182763f5c5',\n",
       " '78c2cc7a-6d19-4a6d-9759-b077bc15e687',\n",
       " 'c343c362-e9dc-4512-b5aa-7e851f339b81',\n",
       " 'fac34448-843e-4b37-9de2-f46f10864bc3',\n",
       " '08037df1-7043-454d-ac64-2be1ca45d8f3',\n",
       " 'de1e156a-1480-43d6-b549-9625df7e9d16',\n",
       " '113c85fd-4f4b-40d7-a2e4-0f565ce17633',\n",
       " '5e33e666-ac4a-415e-b189-2150dd8c7309',\n",
       " 'ffbd9b35-3cea-499d-8968-9cf024e5e4b0',\n",
       " '1e9647b4-f989-44db-94da-97bb5aceccfb',\n",
       " '7d77add3-212a-4827-bb58-4fe343f0562f',\n",
       " 'f7849b01-bc9c-4e1d-a6a2-272cee86dff2',\n",
       " '92b1ed4d-3735-4de8-87f5-ce70f5374737',\n",
       " '280abc49-fc61-4c38-b71f-91fd76498205',\n",
       " 'd7e9c7e6-e164-4104-aa4d-eeaca4160cdc',\n",
       " '0563df05-da2a-4356-b372-a67e22be849b',\n",
       " 'd48ad626-d682-4163-9081-a08e526d56eb',\n",
       " '5444b75e-5a43-4899-b945-c70b89522d5d',\n",
       " '160d0d32-20a5-4ba6-bdbc-518b2d791eb2',\n",
       " '67431d16-d589-455c-a070-c140bad9e07f',\n",
       " '919208da-967b-4d6e-9638-d0274213a0a8',\n",
       " 'b6ed572d-91b7-49d8-9bac-d0b08919f5b1',\n",
       " '0a3ebb25-eb98-4d96-a7a6-fc5fc3b3bd8c',\n",
       " 'aed8479c-d98f-4d25-a96b-786e3f3c7b5a',\n",
       " '987e5cfa-4894-4253-a577-6c0758f47408',\n",
       " '64c0f595-9338-48d3-8e98-1c1d41f888bd',\n",
       " '1e40d601-2fdb-4a36-be5c-2f40d7a58561',\n",
       " 'f46bce2f-0175-4d9f-b044-d47da9640e89',\n",
       " 'c7a3d4c4-c07f-4246-9fcb-c3979b6197a0',\n",
       " 'b62c99d5-9bb4-4210-a729-62b4e97a4b84',\n",
       " 'b49e0daf-a9a8-44d3-a7a8-c9c96e8d73a7',\n",
       " 'f102949b-bf13-4d37-96c3-9edd12723ce0',\n",
       " 'd3b3d797-def9-44a7-93fc-f66b40b0e166',\n",
       " '7e1f4893-0b14-4f7a-b287-639eae294b02',\n",
       " 'a2ec8369-798f-40f9-8ba4-8270257df2ac',\n",
       " '822a5fd0-5965-451e-9a67-0ca47c3fefdc',\n",
       " '4bfecc5d-26f5-436a-83b4-86d0b008d08f',\n",
       " 'f895a9f1-697c-4e61-bb4b-bc5b66a45234',\n",
       " '455efd83-b378-414e-b904-663bd2effad6',\n",
       " '9e898b8d-e0be-4761-884c-f115e8823b17',\n",
       " 'd1ba5bae-fc7f-498f-89ec-7c7d58dfefea',\n",
       " '0efcfeb4-ffe1-4ceb-bec8-630f5d857a65',\n",
       " 'b06cc3bd-b7f1-4245-958c-7b2b047417c9',\n",
       " 'bae63198-3731-46db-a42c-0970e44858a3',\n",
       " '04a24895-8d95-4a98-b80b-7dc5847fd993',\n",
       " 'd27105c9-d2c4-4191-9771-5679b78be0a3',\n",
       " '66f40032-4e9e-4844-926d-6efe14981920',\n",
       " 'a8d9d492-d1c5-41fd-91ac-f0e3dcb7ceb5',\n",
       " 'cd94788b-97d3-4b66-a2cb-c678f05e85a2',\n",
       " '14b49bbc-1210-4ac4-aead-8b3cb690c5ff',\n",
       " 'b7bfe42f-776f-44b7-a74c-eafe599666e4',\n",
       " 'be945aa1-0b8d-4b57-b943-7951e7d79064',\n",
       " 'e4525a09-3172-4942-9e2f-3f9d1e4b3a5c',\n",
       " '6f2e358b-5d99-41be-a856-b70ae59277d8',\n",
       " 'c0713a84-7d36-47ff-8574-c7d1502b5071',\n",
       " '0658b5ba-4176-4eb9-8064-813d5fdb004a',\n",
       " 'f2894f52-48f3-42b2-8374-bc1736feb591',\n",
       " 'c834d1c0-725c-41c0-adbc-018c5436a3e6',\n",
       " '252c8d5c-b144-417f-8d03-cfc8fffd75fd',\n",
       " '02ba48e0-2e64-42f2-94d9-bd1d656387b3',\n",
       " '18d06b37-7529-4d04-9dbf-54966caded60',\n",
       " 'd491e568-3ab3-4e03-adf8-9541233f7594',\n",
       " 'b14cdc91-553b-416a-b46a-32b6e6373a99',\n",
       " '7dca405e-1989-460c-9281-8430a9dc5238',\n",
       " '932e428a-66a3-4b81-9073-f6650ad36d78',\n",
       " '1b7da1a1-5aba-4078-9073-2a9ffc34d54c',\n",
       " '9afe8734-4955-447d-a31f-8cab95d5cfef',\n",
       " 'd5a7e20f-e644-43f6-ac5e-b3d9766c6b1f',\n",
       " '584dfc27-fee6-4d38-911b-b69b9fc90db0',\n",
       " '41d963f1-2489-46cd-9529-5e01061631e2',\n",
       " 'a66a0a8f-de23-4814-b2ba-402e03bcf570',\n",
       " '485fe32d-d83b-4897-9fd6-78e6479a6b1d',\n",
       " '93d1c003-0836-4d4a-a333-0b02598d11bc',\n",
       " '2320b9af-6594-47f1-9757-594d49e6fc9e',\n",
       " '0b75d33d-2f6c-462b-b0a9-a99464d41492',\n",
       " 'bcea72a2-90a6-404a-b566-d1f96c11c592',\n",
       " '04b25a77-ce47-495a-87ad-610dfbe97b15',\n",
       " '9a8d2b21-3083-4f28-88f6-2da2cf2802f5',\n",
       " 'ddd9c461-97d4-4684-8876-17c341cfae69',\n",
       " '499b7c38-c4de-4897-b622-5c8b1376fea0',\n",
       " '2fe55570-006d-477a-84a1-2cccbe774234',\n",
       " '5cb9fcf9-7433-4a2c-bc62-ac0dd5388731',\n",
       " '9db9860e-9da8-4576-9503-3c756a999af4',\n",
       " '4c870b3e-1ff4-46c5-ae48-f64a0330d9f8',\n",
       " '87cc7b5e-3dae-492c-bb19-4c43efdc6f36',\n",
       " 'cb66b27b-b554-40c2-81f2-e43cb4a2b3f0',\n",
       " 'd757e073-be8b-4e11-820c-06445a6330d6',\n",
       " '50b23e12-918c-4feb-9950-fba488e45e72',\n",
       " 'af30c330-9c19-4f57-a1d0-79cb8dc8ccd5',\n",
       " 'a0ffe7fe-06a3-400b-878b-aa30a7e6aea7',\n",
       " 'e348fa67-8566-4667-a418-582153a2213f',\n",
       " '2f5fa459-1cce-4662-a511-6dd87e94a198',\n",
       " '7abecf02-d3b2-4b88-bd00-7998f9c26429',\n",
       " '7cb5563a-ac57-4b29-95b8-b942532d3cae',\n",
       " '39807b44-79a8-4806-bfa0-12b68cc67dde',\n",
       " '5cb6da3c-f30b-4d71-af73-e204a5e4f4bd',\n",
       " 'b722c25b-90b4-45ec-bd51-e8ce47e5dd89',\n",
       " 'd8822bf4-3d48-41aa-bec1-70f6906f23ba',\n",
       " '890ef44c-5786-44d0-be6e-871191e8c48f',\n",
       " '5e8b2c25-f76f-4a29-8cfc-157c5291f2f1',\n",
       " '3a820f19-ea46-4ddb-b1ff-21c74357bee9',\n",
       " '55ee894c-9b4e-4a94-b073-03f137955d67',\n",
       " '9e3c2538-4199-445e-8bb6-4ccc6815fdbb',\n",
       " 'c0a95fd7-b084-4125-a8f3-3ae5bac1ebeb',\n",
       " 'fab8454b-8e12-46c2-b97f-a2540e5d7f3b',\n",
       " '101d8db6-2df7-4481-817d-b1d2a0d7fb2d',\n",
       " 'decc5bce-1f00-41b2-8544-86cb491ae496',\n",
       " 'b7c4f9cc-56e1-4c88-8802-f038234d3aec',\n",
       " 'a95e2f19-ea85-4299-a8d6-cd1949c6531d',\n",
       " 'e724b221-2913-42cc-baf0-700557f78bb6',\n",
       " '018f0205-575f-4281-869c-30f1002db64c',\n",
       " 'ff7d0cde-633b-440d-9418-0cc88da2b425',\n",
       " 'a40c7677-b8f7-483b-8e74-7d9fa1d73f1d',\n",
       " '73616ca1-ab92-40a6-91d3-8f1ad6cfcfe3',\n",
       " 'b4d4ffa3-bb11-42e6-a2ef-29f8b3b88896',\n",
       " 'c20b4655-06c9-46dc-bf03-46f4026f4b5a',\n",
       " 'a2d1bf30-d839-4ad7-b98a-20357409a048',\n",
       " 'caa24ad5-7307-4c30-aff0-4444ac004a86',\n",
       " '8449fba9-a16d-4d9e-871e-5abdf06ed558',\n",
       " '123889ab-01f4-407e-a9c7-e32a6a5ea2d6',\n",
       " '29035daf-54fe-45fc-9c72-d73b159030d2',\n",
       " '97e7bab2-e288-449f-b79f-c1c7f3c995fa',\n",
       " 'd27160b1-d9a3-4a04-95ec-b184378c479d',\n",
       " 'f2bc2d75-5c76-4414-b8c7-ee0be88df253',\n",
       " '3ddb0763-bf9d-4efa-b3d9-82270aaf97d6',\n",
       " 'd0c660dc-b369-4131-8a8c-bb30c720eba9',\n",
       " '25a4da63-4e62-46eb-b364-54af7951b711',\n",
       " '03c5b302-e6f0-4370-a3fa-a9d20e80b5c6',\n",
       " 'f7570fa5-5303-42d2-bbd1-8a3a8cf8bb68',\n",
       " '61158a03-a5f1-457f-bd3e-3ea4b04bf104',\n",
       " 'd55a2405-7e1a-4907-b97c-48499e723220',\n",
       " '126cf1be-472b-4e7b-b54d-ff086e2e8bd8',\n",
       " '0517af15-cf11-40f1-945d-94025b4653bf',\n",
       " 'ad410fca-3971-4a5a-ada6-0f71c0c25a2c',\n",
       " 'e81f625e-e323-4459-a641-983608886218',\n",
       " '55890b96-1672-4d13-bab5-6df2b11778c3',\n",
       " '343ecf50-b4c2-4e90-91b9-5f04a0df7940',\n",
       " '5f5d14be-1c8e-4623-852d-182868aa0790',\n",
       " 'eb101ce9-262a-4103-8cc0-b36b0e11bf7a',\n",
       " '5d88be2d-3b55-4ed8-aeb0-126f895e897a',\n",
       " 'acd516cb-b5f9-411c-ba0a-6f03d5bb1e1f',\n",
       " '97d1f524-edcf-42d1-846c-81a581d0590d',\n",
       " 'aecd9782-ab21-4e04-8456-7a323444522a',\n",
       " '11b024e2-2f4b-414d-8ccd-f9ba771841c1',\n",
       " 'bd675b27-06b0-4a5e-8e5a-288e34d231b4',\n",
       " '0c9fb630-d957-4c5c-9efd-85b823a934a9',\n",
       " '7e7bb459-79f7-4ed3-b95c-a70eb8d5b348',\n",
       " '025a10ed-f22d-4acd-93d7-3d36c5b3a092',\n",
       " 'aa0dd88d-91df-4c9e-8e9a-c7e0d29f82f8',\n",
       " 'd49496cc-8a8f-488a-aa53-77d738db01b4',\n",
       " '9da7d7a1-a535-4747-afc2-8fb44fdbf5b5',\n",
       " '3f98a7e3-b0ca-4466-a901-49becae0ffa7',\n",
       " '3be5a35f-db3b-4a11-ad25-4c045994f9bc',\n",
       " 'e14ac78f-8b5d-43ce-b435-0623a1bb3e73',\n",
       " '4f0830ae-c0c6-43ee-8d5d-9650390a8933',\n",
       " '392f7d8b-7c12-49c4-a06f-0b89db9c3b02',\n",
       " 'e2e67766-9c27-4787-b122-63ff15ace580',\n",
       " '1757dbd0-e225-43d7-9059-c6a392278ff3',\n",
       " '7d679a70-cdd8-4139-94c2-b320b4abe233',\n",
       " '6b384e6d-fa4d-4e16-990b-f012ca303463',\n",
       " '08ab29ac-c8e6-4beb-8e67-46d2f074d08e',\n",
       " '56339874-8600-4a7c-bd17-7b1ef7e913ef',\n",
       " '71c21a43-488c-4384-b19f-ffecfe6746f7',\n",
       " '4e3f4175-75e3-47b4-ac6d-a78a591747d8',\n",
       " 'f009bab2-1794-4e1e-98ba-f1d3dbadecd8',\n",
       " '14c1a2ff-6c98-406e-8735-3bf1b8714411',\n",
       " '8f55a613-e8d0-4d2c-b093-0572972f4923',\n",
       " 'c4273ee8-5d69-402e-9a74-9ee3729746e0',\n",
       " '7d996c4a-1add-45b8-9e52-de90a04a27d9',\n",
       " '25749e27-c627-4823-8119-183abec56d21',\n",
       " 'f4b5c919-bf77-4230-be4e-c4ce86032d30',\n",
       " 'c71c92d7-7643-4096-a1f6-1a79a5a1a647',\n",
       " 'd5d291ef-db83-4e43-936d-8ad102b8efbd',\n",
       " '875b163f-350c-42a1-91b7-a0bb660a2276',\n",
       " '8151dc94-9ef5-445d-8e7c-435e78b7d94f',\n",
       " 'd9a7cb59-78fb-4910-aad6-2f934aea5037',\n",
       " '8c4e7863-91e7-4db3-abd4-538f6d5394cb',\n",
       " '904cc218-34fb-4ded-b59e-4806130b11bd',\n",
       " '0892166a-6a34-4e54-befa-cb466ecd13b5',\n",
       " '3103924b-9bca-426b-b7cb-e1e21c6cf1b7',\n",
       " 'affe8f6b-ec9f-4e07-9988-8afd07a609db',\n",
       " '0cf2fb8f-1906-4d46-8c0f-d131de12c236',\n",
       " '35fa6971-6279-4340-917c-8f2ccf80bb4f',\n",
       " '8e04e6c8-4f11-47d9-acf9-e98c685ecea8',\n",
       " '2addfda9-6f1b-416e-b07c-0c794558f33c',\n",
       " '26253057-63de-4961-beea-7a2530ef36f7',\n",
       " 'ca182d1a-895e-4342-af82-6e9cf88e493f',\n",
       " '239c001f-b984-44fd-aae9-250d2fef6e08',\n",
       " '867aaf4e-2e1b-440b-8249-4f8ce63c0ff9',\n",
       " 'd50905d5-d117-406a-afe2-eedfda1b35ff',\n",
       " '46394b53-05fa-4d9a-851e-9f969b545294',\n",
       " '4e383079-a41f-4619-98bc-b74d6477271f',\n",
       " '2b945968-9628-47b0-b337-b01c680f2c97',\n",
       " '04ebe07e-f333-469d-b05c-3bab6b9eef64',\n",
       " 'bc3c1ff8-23c9-44a8-8748-d350ae74bffb',\n",
       " '086e02d7-7352-4860-ab3f-278aad23ea0d',\n",
       " '6c22f0a0-479d-4f36-8899-58db6d26628a',\n",
       " 'ff9a9e2e-3e35-4f45-bcf6-19bff13c01c6',\n",
       " 'be6325c9-4ced-429a-8a13-e3dc3d29b99d',\n",
       " '1fa677a9-6cf5-4fec-a845-67f7ee33178b',\n",
       " '4f55b92c-8ae8-498b-9584-26426404a580',\n",
       " 'cc56bfe2-edc7-4bd3-bd94-9dcf206e070c',\n",
       " '07a303f8-d693-49c1-b538-187d122b3a83',\n",
       " 'd5703114-d2ec-4bb6-9572-e58dbd45e674',\n",
       " 'ddc06bbe-520a-4c44-92da-d3a4f96b5e50',\n",
       " '495ebf4d-0125-46e5-8d95-afb1439bc5c0',\n",
       " '270462c5-f702-491a-9392-55fb75f30db0',\n",
       " 'f693fffd-f9af-4b06-b607-00d2b2305d67',\n",
       " 'e7ea2464-7b50-4cfe-9926-29d5aba5c568',\n",
       " 'd1c4d4f6-f9c3-40d0-8476-885b74c4b658',\n",
       " '6f5c6557-7990-4108-b9f7-53d4f21a44e2',\n",
       " '9f6b823a-d32f-4a26-8644-14ab7cdc7792',\n",
       " '703f72ce-1a87-46e0-a3a1-d48bead48246',\n",
       " '1c7699c8-de40-42b6-bb1e-887035f919de',\n",
       " '24b21b79-37c4-46db-99e7-1f5c718867dc',\n",
       " '2dd2f1d4-9da6-4718-89d8-924fe6cb4966',\n",
       " 'd374cfee-8e06-4e1b-a823-5883e36cd337',\n",
       " 'ea24e3b0-d0ed-43f2-9671-fdd67c152d38',\n",
       " '6717a4e4-5602-412c-94ba-e20c9f780a82',\n",
       " 'c1f1d3c0-4995-4654-89c0-e7ddde01345b',\n",
       " '907de83f-7017-415e-8352-d6de4e716d83',\n",
       " '870ce670-75bd-4481-ad16-0aa343aedd47',\n",
       " 'd7cad647-c7c5-4631-81cb-6f658d7268b6',\n",
       " '1e9f076c-c188-4fbd-8590-a616b32811e4',\n",
       " '062247c7-92c3-4707-8e4c-b6f25100a3a7',\n",
       " 'ea7908cc-e8d1-477c-94bb-7531beabe901',\n",
       " 'f1282c55-23cb-4d43-b85b-ef8a9b1af9a9',\n",
       " '932a0aee-27c3-40b6-8ece-e98f5f284497',\n",
       " '4c01cf68-5db6-4e2a-aa10-4b5e56ca3b4f',\n",
       " '2fbb0b25-8bba-41e3-aee4-bd9c0359ba7c',\n",
       " 'e0903a04-ff48-4529-bc03-353947b113dc',\n",
       " '2f0556e7-1184-4f57-8686-b540822d74bc',\n",
       " 'c14aa518-e040-4e46-9033-9e1595b68f27',\n",
       " 'f8f57229-1614-462a-9784-5069a8f19761',\n",
       " '1a59f087-564f-4987-8e3f-a0595bfb48f2',\n",
       " '25214ff4-b4cb-4609-8ab1-7496289a6da6',\n",
       " '2e125e36-6bf8-4a84-a90f-04a049530792',\n",
       " 'a62d6d4d-a40e-4b63-ac6d-a623fdeeec77',\n",
       " '6ca66ce7-6f16-4133-b950-c1d49ca2c27a',\n",
       " '81910750-392a-4a26-ad9f-a2c09e4497df',\n",
       " '19845b49-7d54-4614-b968-f20405f88ebb',\n",
       " '700f763e-cb48-458e-b51a-e0e4a6c3ed00',\n",
       " '6eb54b75-70ba-4579-bf9e-46ce18a25b32',\n",
       " '1883759e-66c3-4e49-8f8b-ffd13cf2f71c',\n",
       " 'b4f2a3f4-d003-45cd-a563-0fa077a0b640',\n",
       " '0fe1bc80-7c2b-4780-8cd1-ab9429e688c8',\n",
       " 'c07e3e5f-470f-4b7e-b5b5-002799a38d7e',\n",
       " '8392ee0f-ecb3-4b8f-854b-94aef2a58f0d',\n",
       " '7b6b414e-b223-48ff-b74e-c389ab2b7a79',\n",
       " '2ead7802-1631-4712-b651-1fe4ac97df60',\n",
       " '8decff7e-3069-4e28-8b17-5e357c915fb1',\n",
       " '12d402c0-49cf-478b-820b-d549f6c92d08',\n",
       " 'b1f08859-5d4d-40c8-8e2f-5dc526a55a1b',\n",
       " '6682b0e2-4d87-4168-8006-d4d89b34b12b',\n",
       " '482f63f3-c2cb-4e46-9f11-1d8e963a7780',\n",
       " '87901da2-c55f-4544-be4b-fefc7a83cc0b',\n",
       " 'f70de1d8-3bdd-427e-a792-c6a3577b350c',\n",
       " '0c6e598c-9874-4ab1-9f57-fe101ffcf6b5',\n",
       " '39c16431-a2d5-49a8-ad3b-69d46901085d']"
      ]
     },
     "execution_count": 23,
     "metadata": {},
     "output_type": "execute_result"
    }
   ],
   "source": [
    "from langchain_pinecone import PineconeVectorStore\n",
    "from langchain_pinecone import Pinecone\n",
    "pinecone_api_key=\"0245dc9d-e4f7-49a5-8221-cc3d6e4c975f\"\n",
    "index_name=\"langchain1\"\n",
    "namespace=\"vecc\"\n",
    "vectorstore = Pinecone(\n",
    "    index_name=index_name,\n",
    "    embedding=embedding,\n",
    "    namespace=namespace,\n",
    "    pinecone_api_key=pinecone_api_key\n",
    ")\n",
    "vectorstore.add_texts([doc.page_content for doc in docs])"
   ]
  },
  {
   "cell_type": "code",
   "execution_count": 24,
   "metadata": {},
   "outputs": [
    {
     "name": "stdout",
     "output_type": "stream",
     "text": [
      "model responses, DPO can therefore optimize a policy using a simple binary cross entropy objective,\n",
      "producing the optimal policy to an implicit reward function fit to the preference data.\n",
      "Our main contribution is Direct Preference Optimization (DPO), a simple RL-free algorithm for\n",
      "such as fine-tuning language models, our goal is to derive a simple approach for policy optimization\n",
      "using preferences directly. Unlike prior RLHF methods, which learn a reward and then optimize it\n",
      "via RL, our approach leverages a particular choice of reward model parameterization that enables\n",
      "In this paper, we show how to directly optimize a language model to adhere to human preferences,\n",
      "without explicit reward modeling or reinforcement learning. We propose Direct Preference Optimiza-\n",
      "tion (DPO) , an algorithm that implicitly optimizes the same objective as existing RLHF algorithms\n",
      "objective, fitting an implicit reward model whose corresponding optimal policy can be extracted in closed form.\n",
      "we will show that the RL-based objective used by existing methods can be optimized exactly with a\n"
     ]
    }
   ],
   "source": [
    "query=\"what is direct preference optimization\"\n",
    "a = vectorstore.similarity_search(query=query)\n",
    "for i in a:\n",
    "    print(i.page_content)"
   ]
  },
  {
   "cell_type": "code",
   "execution_count": null,
   "metadata": {},
   "outputs": [],
   "source": []
  },
  {
   "cell_type": "code",
   "execution_count": null,
   "metadata": {},
   "outputs": [],
   "source": []
  },
  {
   "cell_type": "code",
   "execution_count": 11,
   "metadata": {},
   "outputs": [],
   "source": [
    "docsearch = Typesense.from_documents(\n",
    "    docs,\n",
    "    embedding,\n",
    "    typesense_client_params={\n",
    "        \"host\": \"localhost\",  # Use xxx.a1.typesense.net for Typesense Cloud\n",
    "        \"port\": \"8108\",  # Use 443 for Typesense Cloud\n",
    "        \"protocol\": \"http\",  # Use https for Typesense Cloud\n",
    "        \"typesense_api_key\": \"xyz\",\n",
    "        \"typesense_collection_name\": \"lang-chain\",\n",
    "    },\n",
    ")\n",
    "\n",
    "# docker run -p 8108:8108 -v %cd%/typesense-data:/data typesense/typesense:26.0 --data-dir /data --api-key=\"xyz\" --enable-cors"
   ]
  },
  {
   "cell_type": "code",
   "execution_count": 12,
   "metadata": {},
   "outputs": [
    {
     "name": "stdout",
     "output_type": "stream",
     "text": [
      "[Document(page_content='he sang befor e Emper or Akbar , who was so impr essed by', metadata={'page': 2, 'source': 'Docs\\\\fepw104.pdf'}), Document(page_content='he sang befor e Emper or Akbar , who was so impr essed by', metadata={'page': 2, 'source': 'Docs\\\\fepw104.pdf'}), Document(page_content='he sang befor e Emper or Akbar , who was so impr essed by', metadata={'page': 2, 'source': 'Docs\\\\fepw104.pdf'}), Document(page_content='he sang befor e Emper or Akbar , who was so impr essed by', metadata={'page': 2, 'source': 'Docs\\\\fepw104.pdf'}), Document(page_content='he sang befor e Emper or Akbar , who was so impr essed by', metadata={'page': 2, 'source': 'Docs\\\\fepw104.pdf'}), Document(page_content='he sang befor e Emper or Akbar , who was so impr essed by', metadata={'page': 2, 'source': 'Docs\\\\fepw104.pdf'}), Document(page_content='he sang befor e Emper or Akbar , who was so impr essed by', metadata={'page': 2, 'source': 'Docs\\\\fepw104.pdf'}), Document(page_content='he sang befor e Emper or Akbar , who was so impr essed by', metadata={'page': 2, 'source': 'Docs\\\\fepw104.pdf'}), Document(page_content='he sang befor e Emper or Akbar , who was so impr essed by', metadata={'page': 2, 'source': 'Docs\\\\fepw104.pdf'}), Document(page_content='he sang befor e Emper or Akbar , who was so impr essed by', metadata={'page': 2, 'source': 'Docs\\\\fepw104.pdf'})]\n",
      "[Document(page_content='Our main contribution is Direct Preference Optimization (DPO), a simple RL-free algorithm for', metadata={'page': 1, 'source': 'PDF/DPO.pdf'}), Document(page_content='over-optimization manifest in the direct preference optimization setting, and is the slight', metadata={'page': 9, 'source': 'PDF/DPO.pdf'}), Document(page_content='a simple approach for policy optimization', metadata={'page': 3, 'source': 'PDF/DPO.pdf'}), Document(page_content='effectiveness of each algorithm in optimizing the constrained reward maximization objective, in the', metadata={'page': 6, 'source': 'PDF/DPO.pdf'}), Document(page_content='4 Direct Preference Optimization', metadata={'page': 3, 'source': 'PDF/DPO.pdf'}), Document(page_content='Direct Preference Optimization:\\nYour Language Model is Secretly a Reward Model', metadata={'page': 0, 'source': 'PDF/DPO.pdf'}), Document(page_content='a theoretically-justified approach to optimizing relative preferences without RL.', metadata={'page': 2, 'source': 'PDF/DPO.pdf'}), Document(page_content='explicitly make the optimal policy', metadata={'page': 5, 'source': 'PDF/DPO.pdf'}), Document(page_content='quality of the reward model from the PPO optimization, but is computationally impractical even for', metadata={'page': 7, 'source': 'PDF/DPO.pdf'}), Document(page_content='rϕ(y, x). With some algebra this leads to the optimization objective:\\nmax\\nπθEπθ(y|x)\\x14', metadata={'page': 5, 'source': 'PDF/DPO.pdf'})]\n"
     ]
    }
   ],
   "source": [
    "query = \"What is idea behind direct preference optimization\"\n",
    "found_docs = docsearch.similarity_search(query)\n",
    "print(found_docs)"
   ]
  },
  {
   "cell_type": "code",
   "execution_count": null,
   "metadata": {},
   "outputs": [],
   "source": []
  },
  {
   "cell_type": "code",
   "execution_count": null,
   "metadata": {},
   "outputs": [],
   "source": []
  },
  {
   "cell_type": "code",
   "execution_count": null,
   "metadata": {},
   "outputs": [],
   "source": []
  },
  {
   "cell_type": "code",
   "execution_count": null,
   "metadata": {},
   "outputs": [],
   "source": [
    "import typesense\n",
    "\n",
    "client = typesense.Client({\n",
    "  'nodes': [{\n",
    "    'host': 'localhost',\n",
    "    'port': '8108',\n",
    "    'protocol': 'http'\n",
    "  }],\n",
    "  'api_key': 'xyz',\n",
    "  'connection_timeout_seconds': 2\n",
    "})\n",
    "\n",
    "\n",
    "key = client.keys.create({\n",
    "  \"description\": \"Admin key.\",\n",
    "  \"actions\": [\"*\"],\n",
    "  \"collections\": [\"*\"]\n",
    "})\n",
    "\n",
    "\n"
   ]
  },
  {
   "cell_type": "code",
   "execution_count": null,
   "metadata": {},
   "outputs": [],
   "source": []
  },
  {
   "cell_type": "code",
   "execution_count": null,
   "metadata": {},
   "outputs": [],
   "source": [
    "from langchain_community.vectorstores import Chroma\n",
    "persist_directory = 'docs/chroma/'\n",
    "# !rm -rf ./docs/chroma"
   ]
  },
  {
   "cell_type": "code",
   "execution_count": null,
   "metadata": {},
   "outputs": [],
   "source": []
  },
  {
   "cell_type": "code",
   "execution_count": null,
   "metadata": {},
   "outputs": [],
   "source": [
    "vectordb = Chroma.from_documents(\n",
    "    documents=docs,\n",
    "    embedding=embedding,\n",
    "    persist_directory=persist_directory\n",
    ")"
   ]
  },
  {
   "cell_type": "code",
   "execution_count": null,
   "metadata": {},
   "outputs": [],
   "source": [
    "print(vectordb._collection.count())"
   ]
  },
  {
   "cell_type": "code",
   "execution_count": null,
   "metadata": {},
   "outputs": [],
   "source": [
    "question = \"what is disadvantage of reinforcement learning form human feedback\"\n",
    "docs = vectordb.similarity_search(question,k=3)"
   ]
  },
  {
   "cell_type": "code",
   "execution_count": null,
   "metadata": {},
   "outputs": [],
   "source": [
    "for d in docs:\n",
    "    print(d.metadata)\n",
    "    print(\"\\n\")"
   ]
  },
  {
   "cell_type": "code",
   "execution_count": null,
   "metadata": {},
   "outputs": [],
   "source": [
    "# to save\n",
    "vectordb.persist()"
   ]
  },
  {
   "cell_type": "code",
   "execution_count": null,
   "metadata": {},
   "outputs": [],
   "source": []
  }
 ],
 "metadata": {
  "kernelspec": {
   "display_name": "Python 3",
   "language": "python",
   "name": "python3"
  },
  "language_info": {
   "codemirror_mode": {
    "name": "ipython",
    "version": 3
   },
   "file_extension": ".py",
   "mimetype": "text/x-python",
   "name": "python",
   "nbconvert_exporter": "python",
   "pygments_lexer": "ipython3",
   "version": "3.11.9"
  }
 },
 "nbformat": 4,
 "nbformat_minor": 2
}
