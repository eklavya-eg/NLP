{
 "cells": [
  {
   "cell_type": "code",
   "execution_count": 1,
   "metadata": {},
   "outputs": [
    {
     "name": "stderr",
     "output_type": "stream",
     "text": [
      "  % Total    % Received % Xferd  Average Speed   Time    Time     Time  Current\n",
      "                                 Dload  Upload   Total   Spent    Left  Speed\n",
      "\n",
      "  0     0    0     0    0     0      0      0 --:--:-- --:--:-- --:--:--     0\n",
      " 82 1089k   82  894k    0     0  1304k      0 --:--:-- --:--:-- --:--:-- 1306k\n",
      "100 1089k  100 1089k    0     0  1530k      0 --:--:-- --:--:-- --:--:-- 1534k\n"
     ]
    }
   ],
   "source": [
    "!curl -o text.txt https://raw.githubusercontent.com/karpathy/char-rnn/master/data/tinyshakespeare/input.txt"
   ]
  },
  {
   "cell_type": "code",
   "execution_count": 1,
   "metadata": {},
   "outputs": [],
   "source": [
    "file = open(\"text.txt\", 'r')\n",
    "text = file.read()\n",
    "file.close()"
   ]
  },
  {
   "cell_type": "code",
   "execution_count": 2,
   "metadata": {},
   "outputs": [
    {
     "name": "stdout",
     "output_type": "stream",
     "text": [
      "\n",
      " !$&',-.3:;?ABCDEFGHIJKLMNOPQRSTUVWXYZabcdefghijklmnopqrstuvwxyz\n",
      "65\n"
     ]
    }
   ],
   "source": [
    "chars = sorted(list(set(text)))\n",
    "vocab_size = len(chars)\n",
    "print(\"\".join(chars))\n",
    "print(vocab_size)"
   ]
  },
  {
   "cell_type": "code",
   "execution_count": 3,
   "metadata": {},
   "outputs": [
    {
     "name": "stdout",
     "output_type": "stream",
     "text": [
      "[46, 43, 50, 50, 53, 1, 61, 53, 56, 50, 42]\n",
      "hello world\n"
     ]
    }
   ],
   "source": [
    "stoi = {c:i for i, c in enumerate(chars, start=0)}\n",
    "itos = {i:c for i, c in enumerate(chars, 0)}\n",
    "encode = lambda s: [stoi[c] for c in s]\n",
    "decode = lambda l: \"\".join([itos[i] for i in l])\n",
    "print(encode(\"hello world\"))\n",
    "print(decode(encode(\"hello world\")))"
   ]
  },
  {
   "cell_type": "code",
   "execution_count": 4,
   "metadata": {},
   "outputs": [
    {
     "name": "stdout",
     "output_type": "stream",
     "text": [
      "torch.int64 torch.Size([1115394])\n",
      "tensor([18, 47, 56, 57, 58,  1, 15, 47, 58, 47])\n"
     ]
    }
   ],
   "source": [
    "import torch\n",
    "data = torch.tensor(encode(text), dtype=torch.long)\n",
    "print(data.dtype, data.shape)\n",
    "print(data[:10])"
   ]
  },
  {
   "cell_type": "code",
   "execution_count": 5,
   "metadata": {},
   "outputs": [],
   "source": [
    "n = int(0.9*(len(data)))\n",
    "train = data[:n]\n",
    "val = data[n:]"
   ]
  },
  {
   "cell_type": "code",
   "execution_count": 6,
   "metadata": {},
   "outputs": [
    {
     "data": {
      "text/plain": [
       "tensor([18, 47, 56, 57, 58,  1, 15, 47, 58])"
      ]
     },
     "execution_count": 6,
     "metadata": {},
     "output_type": "execute_result"
    }
   ],
   "source": [
    "block_size = 8\n",
    "train[:block_size+1]"
   ]
  },
  {
   "cell_type": "code",
   "execution_count": 7,
   "metadata": {},
   "outputs": [
    {
     "name": "stdout",
     "output_type": "stream",
     "text": [
      "context is tensor([18]) target is tensor(47)\n",
      "context is tensor([18, 47]) target is tensor(56)\n",
      "context is tensor([18, 47, 56]) target is tensor(57)\n",
      "context is tensor([18, 47, 56, 57]) target is tensor(58)\n",
      "context is tensor([18, 47, 56, 57, 58]) target is tensor(1)\n",
      "context is tensor([18, 47, 56, 57, 58,  1]) target is tensor(15)\n",
      "context is tensor([18, 47, 56, 57, 58,  1, 15]) target is tensor(47)\n"
     ]
    }
   ],
   "source": [
    "x = train[:block_size]\n",
    "y = train[1:block_size+1]\n",
    "for i in range(1, block_size):\n",
    "    print(\"context is\", x[:i], \"target is\", y[i-1])"
   ]
  },
  {
   "cell_type": "code",
   "execution_count": 8,
   "metadata": {},
   "outputs": [
    {
     "name": "stdout",
     "output_type": "stream",
     "text": [
      "context: tensor([24]) target: tensor(43)\n",
      "context: tensor([24, 43]) target: tensor(58)\n",
      "context: tensor([24, 43, 58]) target: tensor(5)\n",
      "context: tensor([24, 43, 58,  5]) target: tensor(57)\n",
      "context: tensor([24, 43, 58,  5, 57]) target: tensor(1)\n",
      "context: tensor([24, 43, 58,  5, 57,  1]) target: tensor(46)\n",
      "context: tensor([24, 43, 58,  5, 57,  1, 46]) target: tensor(43)\n",
      "context: tensor([24, 43, 58,  5, 57,  1, 46, 43]) target: tensor(39)\n",
      "context: tensor([44]) target: tensor(53)\n",
      "context: tensor([44, 53]) target: tensor(56)\n",
      "context: tensor([44, 53, 56]) target: tensor(1)\n",
      "context: tensor([44, 53, 56,  1]) target: tensor(58)\n",
      "context: tensor([44, 53, 56,  1, 58]) target: tensor(46)\n",
      "context: tensor([44, 53, 56,  1, 58, 46]) target: tensor(39)\n",
      "context: tensor([44, 53, 56,  1, 58, 46, 39]) target: tensor(58)\n",
      "context: tensor([44, 53, 56,  1, 58, 46, 39, 58]) target: tensor(1)\n",
      "context: tensor([52]) target: tensor(58)\n",
      "context: tensor([52, 58]) target: tensor(1)\n",
      "context: tensor([52, 58,  1]) target: tensor(58)\n",
      "context: tensor([52, 58,  1, 58]) target: tensor(46)\n",
      "context: tensor([52, 58,  1, 58, 46]) target: tensor(39)\n",
      "context: tensor([52, 58,  1, 58, 46, 39]) target: tensor(58)\n",
      "context: tensor([52, 58,  1, 58, 46, 39, 58]) target: tensor(1)\n",
      "context: tensor([52, 58,  1, 58, 46, 39, 58,  1]) target: tensor(46)\n",
      "context: tensor([25]) target: tensor(17)\n",
      "context: tensor([25, 17]) target: tensor(27)\n",
      "context: tensor([25, 17, 27]) target: tensor(10)\n",
      "context: tensor([25, 17, 27, 10]) target: tensor(0)\n",
      "context: tensor([25, 17, 27, 10,  0]) target: tensor(21)\n",
      "context: tensor([25, 17, 27, 10,  0, 21]) target: tensor(1)\n",
      "context: tensor([25, 17, 27, 10,  0, 21,  1]) target: tensor(54)\n",
      "context: tensor([25, 17, 27, 10,  0, 21,  1, 54]) target: tensor(39)\n"
     ]
    }
   ],
   "source": [
    "torch.manual_seed(1337)\n",
    "batch_size=4\n",
    "block_size=8\n",
    "\n",
    "def get_batch(split):\n",
    "    data = train if split==\"train\" else val\n",
    "    ix = torch.randint(len(data)-block_size, (batch_size,))\n",
    "    x = torch.stack([data[i:i+block_size] for i in ix])\n",
    "    y = torch.stack([data[i+1:i+block_size+1] for i in ix])\n",
    "    return x, y\n",
    "\n",
    "# example usage\n",
    "xe, ye = get_batch(split=\"train\")\n",
    "for i in range(batch_size):\n",
    "    for j in range(block_size):\n",
    "        print(\"context:\", xe[i][:j+1], \"target:\", ye[i][j])"
   ]
  },
  {
   "cell_type": "code",
   "execution_count": null,
   "metadata": {},
   "outputs": [],
   "source": [
    "import torch\n",
    "import torch.nn as nn\n",
    "import torch.functional as F\n",
    "class BigramLanguageModel(nn.module):\n",
    "    def __init__(self, vocab_size, embedding_dim):\n",
    "        super.__init__()\n",
    "        self.token_embedding_table = nn.Embedding(vocab_size, embedding_dim)\n",
    "    def forward(self, idx, target):\n",
    "        logits = self.token_embedding_table(idx)"
   ]
  }
 ],
 "metadata": {
  "kernelspec": {
   "display_name": "Python 3",
   "language": "python",
   "name": "python3"
  },
  "language_info": {
   "codemirror_mode": {
    "name": "ipython",
    "version": 3
   },
   "file_extension": ".py",
   "mimetype": "text/x-python",
   "name": "python",
   "nbconvert_exporter": "python",
   "pygments_lexer": "ipython3",
   "version": "3.11.9"
  }
 },
 "nbformat": 4,
 "nbformat_minor": 2
}
